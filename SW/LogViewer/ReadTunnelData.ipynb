{
 "cells": [
  {
   "cell_type": "code",
   "execution_count": 34,
   "metadata": {},
   "outputs": [],
   "source": [
    "from pyulog import ULog\n",
    "import pandas as pd"
   ]
  },
  {
   "cell_type": "code",
   "execution_count": 41,
   "metadata": {},
   "outputs": [],
   "source": [
    "u = ULog('00_24_44.ulg')\n",
    "# u = ULog('../log_0_2020-11-12-00-50-00.ulg')"
   ]
  },
  {
   "cell_type": "code",
   "execution_count": 42,
   "metadata": {
    "scrolled": true
   },
   "outputs": [
    {
     "name": "stdout",
     "output_type": "stream",
     "text": [
      "estimator_status\n",
      "estimator_sensor_bias\n",
      "estimator_innovations\n",
      "estimator_innovation_variances\n",
      "estimator_innovation_test_ratios\n",
      "airspeed_validated\n",
      "wind_estimate\n",
      "telemetry_status\n",
      "logger_status\n",
      "position_setpoint_triplet\n",
      "vehicle_angular_acceleration\n",
      "ekf2_timestamps\n",
      "vehicle_imu_status\n",
      "vehicle_imu_status\n",
      "vehicle_imu_status\n",
      "vehicle_imu\n",
      "vehicle_imu\n",
      "vehicle_imu\n",
      "sensor_mag\n",
      "sensor_gyro\n",
      "sensor_gyro\n",
      "sensor_gyro\n",
      "sensor_baro\n",
      "sensor_accel\n",
      "sensor_accel\n",
      "sensor_accel\n",
      "battery_status\n",
      "battery_status\n",
      "actuator_outputs\n",
      "actuator_outputs\n",
      "vehicle_status_flags\n",
      "vehicle_status\n",
      "vehicle_magnetometer\n",
      "vehicle_local_position\n",
      "vehicle_land_detected\n",
      "vehicle_control_mode\n",
      "vehicle_attitude\n",
      "vehicle_angular_velocity\n",
      "vehicle_air_data\n",
      "test_motor\n",
      "system_power\n",
      "sensor_selection\n",
      "sensor_preflight\n",
      "sensor_combined\n",
      "safety\n",
      "rpm\n",
      "px4io_status\n",
      "esc_status\n",
      "cpuload\n",
      "commander_state\n",
      "actuator_controls_0\n",
      "actuator_armed\n"
     ]
    }
   ],
   "source": [
    "t = None\n",
    "for x in u.data_list:\n",
    "    print(x.name)\n",
    "    if x.name == 'tunnel':\n",
    "        t = x\n",
    "        print(\".....\")"
   ]
  },
  {
   "cell_type": "code",
   "execution_count": 45,
   "metadata": {},
   "outputs": [
    {
     "name": "stdout",
     "output_type": "stream",
     "text": [
      "None\n"
     ]
    }
   ],
   "source": [
    "print(t)\n",
    "if t:\n",
    "    pd.DataFrame.from_dict(t.data)"
   ]
  },
  {
   "cell_type": "code",
   "execution_count": null,
   "metadata": {},
   "outputs": [],
   "source": []
  },
  {
   "cell_type": "code",
   "execution_count": null,
   "metadata": {},
   "outputs": [],
   "source": []
  },
  {
   "cell_type": "code",
   "execution_count": null,
   "metadata": {},
   "outputs": [],
   "source": []
  },
  {
   "cell_type": "code",
   "execution_count": null,
   "metadata": {},
   "outputs": [],
   "source": []
  }
 ],
 "metadata": {
  "kernelspec": {
   "display_name": "Python 3",
   "language": "python",
   "name": "python3"
  },
  "language_info": {
   "codemirror_mode": {
    "name": "ipython",
    "version": 3
   },
   "file_extension": ".py",
   "mimetype": "text/x-python",
   "name": "python",
   "nbconvert_exporter": "python",
   "pygments_lexer": "ipython3",
   "version": "3.8.5"
  }
 },
 "nbformat": 4,
 "nbformat_minor": 4
}
